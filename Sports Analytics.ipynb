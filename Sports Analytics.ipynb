{
 "cells": [
  {
   "cell_type": "code",
   "execution_count": 1,
   "metadata": {},
   "outputs": [],
   "source": [
    "import numpy as np\n",
    "from scipy.stats import binom\n",
    "from matplotlib import pyplot as plt\n",
    "%matplotlib inline\n"
   ]
  },
  {
   "cell_type": "code",
   "execution_count": 2,
   "metadata": {},
   "outputs": [],
   "source": [
    "# A Probability Distribution; an {outcome: probability} mapping.\n",
    "\n",
    "class ProbDist(dict):\n",
    "    def __init__(self, mapping=(), **kwargs):\n",
    "        self.update(mapping, **kwargs)\n",
    "        total = sum(self.values())\n",
    "        for outcome in self:\n",
    "            self[outcome] = self[outcome] / total\n",
    "            assert self[outcome] >= 0"
   ]
  },
  {
   "cell_type": "code",
   "execution_count": 3,
   "metadata": {
    "button": false,
    "new_sheet": false,
    "run_control": {
     "read_only": false
    }
   },
   "outputs": [],
   "source": [
    "#The probability of an event, given a sample space of outcomes. \n",
    "#event: a collection of outcomes, or a predicate that is true of outcomes in the event. \n",
    "#space: a set of outcomes or a probability distribution of {outcome: frequency} pairs.\n",
    "\n",
    "def p(event, space): \n",
    "    if is_predicate(event):\n",
    "        event = such_that(event, space)\n",
    "    if isinstance(space, ProbDist):\n",
    "        return sum(space[o] for o in space if o in event)\n",
    "    else:\n",
    "        return Fraction(len(event & space), len(space))\n",
    "\n",
    "is_predicate = callable"
   ]
  },
  {
   "cell_type": "code",
   "execution_count": 4,
   "metadata": {},
   "outputs": [],
   "source": [
    "def such_that(predicate, space): \n",
    "    if isinstance(space, ProbDist):\n",
    "        return ProbDist({o:space[o] for o in space if predicate(o)})\n",
    "    else:\n",
    "        return {o for o in space if predicate(o)}"
   ]
  },
  {
   "cell_type": "markdown",
   "metadata": {},
   "source": [
    "### Scores Taken From Point Table Before Singapore Grand Prix"
   ]
  },
  {
   "cell_type": "code",
   "execution_count": 5,
   "metadata": {},
   "outputs": [
    {
     "data": {
      "application/javascript": [
       "IPython.notebook.set_autosave_interval(10000)"
      ]
     },
     "metadata": {},
     "output_type": "display_data"
    },
    {
     "name": "stdout",
     "output_type": "stream",
     "text": [
      "Autosaving every 10 seconds\n"
     ]
    },
    {
     "data": {
      "text/plain": [
       "{'LH': 0.19887955182072828,\n",
       " 'VB': 0.15476190476190477,\n",
       " 'MV': 0.12955182072829133,\n",
       " 'CL': 0.12745098039215685,\n",
       " 'SV': 0.11834733893557423,\n",
       " 'PG': 0.04551820728291316,\n",
       " 'CS': 0.04061624649859944,\n",
       " 'DR': 0.023809523809523808,\n",
       " 'AA': 0.023809523809523808,\n",
       " 'DK': 0.023109243697478993,\n",
       " 'NH': 0.021708683473389355,\n",
       " 'KR': 0.021708683473389355,\n",
       " 'SP': 0.018907563025210083,\n",
       " 'LN': 0.01750700280112045,\n",
       " 'LS': 0.01330532212885154,\n",
       " 'KM': 0.012605042016806723,\n",
       " 'RG': 0.0056022408963585435,\n",
       " 'AG': 0.0021008403361344537,\n",
       " 'RK': 0.0007002801120448179,\n",
       " 'GR': 0.0}"
      ]
     },
     "execution_count": 5,
     "metadata": {},
     "output_type": "execute_result"
    }
   ],
   "source": [
    "%autosave 10\n",
    "SGP = ProbDist(\n",
    "    LH = 284, VB=221,MV=185,CL=182,SV=169,PG=65,CS=58,DR=34,AA=34,DK=33,NH=31,\n",
    "    KR=31,SP=27,LN=25,LS=19,KM=18,RG=8,AG=3,RK=1,GR=0)\n",
    "SGP"
   ]
  },
  {
   "cell_type": "markdown",
   "metadata": {},
   "source": [
    "### Scores Taken From Point Table Before Russian Grand Prix"
   ]
  },
  {
   "cell_type": "code",
   "execution_count": 6,
   "metadata": {},
   "outputs": [],
   "source": [
    "RGP = ProbDist(\n",
    "    LH = 296, VB=231,MV=200,CL=200,SV=194,PG=69,CS=58,DR=34,AA=42,DK=33,NH=33,\n",
    "    KR=31,SP=27,LN=31,LS=19,KM=18,RG=8,AG=4,RK=1,GR=0)\n",
    "    \n"
   ]
  },
  {
   "cell_type": "markdown",
   "metadata": {},
   "source": [
    "### Joint probablity for both the races"
   ]
  },
  {
   "cell_type": "code",
   "execution_count": 7,
   "metadata": {},
   "outputs": [],
   "source": [
    "\n",
    "c = 0;\n",
    "def joint(A, B, sep=''):\n",
    "    return ProbDist({a + sep + b: A[a] * B[b]\n",
    "                    for a in A\n",
    "                    for b in B})\n",
    "\n",
    "MM = joint(SGP, RGP ,'')\n"
   ]
  },
  {
   "cell_type": "markdown",
   "metadata": {},
   "source": [
    "### Probability Distribution for each F1 driver to win both the Singaporean and Russian Grand Prix"
   ]
  },
  {
   "cell_type": "code",
   "execution_count": 8,
   "metadata": {},
   "outputs": [
    {
     "name": "stdout",
     "output_type": "stream",
     "text": [
      "{'LHLH': 0.038501208200742654}\n",
      "{'VBVB': 0.023381294964028757}\n",
      "{'MVMV': 0.016945954313707157}\n",
      "{'CLCL': 0.01667115505456596}\n",
      "{'SVSV': 0.01501594751700548}\n",
      "{'PGPG': 0.0020541244620804486}\n",
      "{'CSCS': 0.0015407078462516452}\n",
      "{'DRDR': 0.0005294465726120397}\n",
      "{'AAAA': 0.0006540222367560491}\n",
      "{'DKDK': 0.0004987606553412728}\n",
      "{'NHNH': 0.00046853273683574104}\n",
      "{'KRKR': 0.00044013681339115075}\n",
      "{'SPSP': 0.00033388109985655446}\n",
      "{'LNLN': 0.0003549490430573796}\n",
      "{'LSLS': 0.0001653375542499536}\n",
      "{'KMKM': 0.00014839159993624643}\n",
      "{'RGRG': 2.9311920975061026e-05}\n",
      "{'AGAG': 5.495985182823942e-06}\n",
      "{'RKRK': 4.5799876523532853e-07}\n",
      "{'GRGR': 0.0}\n"
     ]
    }
   ],
   "source": [
    "# Filtering the winners in both the races \n",
    "# Comparing the first two places in the \"dictionary Key\" with the last two places\n",
    "# so in first element key is LHLH\n",
    "# Therefore  position 0 is L. Position 1 is H and So on.\n",
    "# Thus if position 0 and position 1 equals to position 2 and position 3 then it should print the value\n",
    "for a in MM:\n",
    "    if(a[0]+a[1] == a[2]+a[3]):\n",
    "        print({a : MM[a]})\n"
   ]
  },
  {
   "cell_type": "markdown",
   "metadata": {},
   "source": [
    "### Probability for Mercedes to win both races"
   ]
  },
  {
   "cell_type": "code",
   "execution_count": 9,
   "metadata": {},
   "outputs": [
    {
     "name": "stdout",
     "output_type": "stream",
     "text": [
      "0.12188950138590415\n"
     ]
    }
   ],
   "source": [
    "ans = MM[\"LHLH\"] + MM[\"VBVB\"] + MM[\"VBLH\"] + MM[\"LHVB\"]\n",
    "print(ans)\n"
   ]
  },
  {
   "cell_type": "markdown",
   "metadata": {},
   "source": [
    "### Probability for Mercedes to win at least one race"
   ]
  },
  {
   "cell_type": "code",
   "execution_count": 10,
   "metadata": {},
   "outputs": [
    {
     "name": "stdout",
     "output_type": "stream",
     "text": [
      "0.5764216739671665\n"
     ]
    }
   ],
   "source": [
    "c = 0;\n",
    "for a in MM.keys():\n",
    "    if a[0] + a[1]==\"LH\" or a[0] + a[1] == \"VB\" or a[2] + a[3] ==\"LH\"  or a[2] + a[3] == \"VB\":\n",
    "        #print({a : MM[a]})\n",
    "        c = c + MM[a]\n",
    "print(c )"
   ]
  },
  {
   "cell_type": "markdown",
   "metadata": {},
   "source": [
    "### If Mercedes wins the first race, probability that Mercedes wins the next one"
   ]
  },
  {
   "cell_type": "code",
   "execution_count": 11,
   "metadata": {},
   "outputs": [
    {
     "data": {
      "text/plain": [
       "0.3446697187704381"
      ]
     },
     "execution_count": 11,
     "metadata": {},
     "output_type": "execute_result"
    }
   ],
   "source": [
    "\n",
    "\n",
    "def merc_wins_first_race(outcome): return outcome.startswith(\"LH\") or outcome.startswith(\"VB\")\n",
    "such_that(merc_wins_first_race,MM)\n",
    "\n",
    "def merc_wins_second(outcome): return  outcome.endswith('LH') or outcome.endswith('VB')\n",
    "p(merc_wins_second, such_that(merc_wins_first_race, MM))\n"
   ]
  },
  {
   "cell_type": "markdown",
   "metadata": {},
   "source": [
    "### Mercedes wins at least one of these two races, probability Mercedes wins both races"
   ]
  },
  {
   "cell_type": "code",
   "execution_count": 12,
   "metadata": {},
   "outputs": [
    {
     "data": {
      "text/plain": [
       "0.21145891435173045"
      ]
     },
     "execution_count": 12,
     "metadata": {},
     "output_type": "execute_result"
    }
   ],
   "source": [
    "\n",
    "#First we create a space where it contains every possibility mercedes winning the first race or second race. \n",
    "#From that space we select the possibility where mercedes wins the both the races\n",
    "#Similarly we do it for ferrari redbull & Renault\n",
    "def merc_wins_atleast_one_of_two(outcome): return outcome.startswith(\"LH\") or outcome.startswith(\"VB\") or outcome.endswith(\"LH\") or outcome.endswith(\"VB\")\n",
    "a = such_that(merc_wins_atleast_one_of_two,MM) \n",
    "\n",
    "def merc_wins_both_race(outcome): return outcome.startswith(\"LHLH\") or outcome.startswith(\"VBVB\") or outcome.startswith(\"LHVB\") or outcome.startswith(\"VBLH\")\n",
    "p(merc_wins_both_race, such_that(merc_wins_atleast_one_of_two,MM))\n"
   ]
  },
  {
   "cell_type": "markdown",
   "metadata": {},
   "source": [
    "### Ferrari wins at least one of these two races, probability Mercedes wins both races"
   ]
  },
  {
   "cell_type": "code",
   "execution_count": 13,
   "metadata": {},
   "outputs": [
    {
     "data": {
      "text/plain": [
       "0.14390380190985178"
      ]
     },
     "execution_count": 13,
     "metadata": {},
     "output_type": "execute_result"
    }
   ],
   "source": [
    "#Ferrari\n",
    "def ferrari_wins_atleast_one_of_two(outcome): return outcome.startswith(\"CL\") or outcome.startswith(\"SV\") or outcome.endswith(\"CL\") or outcome.endswith(\"SV\")\n",
    "such_that(ferrari_wins_atleast_one_of_two,MM) \n",
    "\n",
    "def ferrari_wins_both_race(outcome): return outcome.startswith(\"CLCL\") or outcome.startswith(\"SVSV\") or outcome.startswith(\"SVCL\") or outcome.startswith(\"CLSV\")\n",
    "p(ferrari_wins_both_race, such_that(ferrari_wins_atleast_one_of_two,MM))"
   ]
  },
  {
   "cell_type": "markdown",
   "metadata": {},
   "source": [
    "### Redbull wins at least one of these two races, probability Mercedes wins both races"
   ]
  },
  {
   "cell_type": "code",
   "execution_count": 14,
   "metadata": {},
   "outputs": [
    {
     "data": {
      "text/plain": [
       "0.08446852153789515"
      ]
     },
     "execution_count": 14,
     "metadata": {},
     "output_type": "execute_result"
    }
   ],
   "source": [
    "#Redbull\n",
    "def redbull_wins_atleast_one_of_two(outcome): return outcome.startswith(\"MV\") or outcome.startswith(\"AA\") or outcome.endswith(\"MV\") or outcome.endswith(\"AA\")\n",
    "such_that(redbull_wins_atleast_one_of_two,MM) \n",
    "\n",
    "def redbull_wins_both_race(outcome): return outcome.startswith(\"MVMV\") or outcome.startswith(\"AAAA\") or outcome.startswith(\"AAMV\") or outcome.startswith(\"MVAA\")\n",
    "p(redbull_wins_both_race, such_that(redbull_wins_atleast_one_of_two,MM))\n"
   ]
  },
  {
   "cell_type": "markdown",
   "metadata": {},
   "source": [
    "### Renault wins at least one of these two races, probability Mercedes wins both races"
   ]
  },
  {
   "cell_type": "code",
   "execution_count": 15,
   "metadata": {},
   "outputs": [
    {
     "data": {
      "text/plain": [
       "0.02283619812695982"
      ]
     },
     "execution_count": 15,
     "metadata": {},
     "output_type": "execute_result"
    }
   ],
   "source": [
    "#Renault\n",
    "def renault_wins_atleast_one_of_two(outcome): return outcome.startswith(\"DR\") or outcome.startswith(\"NH\") or outcome.endswith(\"DR\") or outcome.endswith(\"NH\")\n",
    "such_that(renault_wins_atleast_one_of_two,MM) \n",
    "\n",
    "def renault_wins_both_race(outcome): return outcome.startswith(\"DRDR\") or outcome.startswith(\"NHNH\") or outcome.startswith(\"NHDR\") or outcome.startswith(\"DRNH\")\n",
    "p(renault_wins_both_race, such_that(renault_wins_atleast_one_of_two,MM))"
   ]
  },
  {
   "cell_type": "markdown",
   "metadata": {},
   "source": [
    "### Probability Mercedes wins both races in any weather conditions (Assumming 5)"
   ]
  },
  {
   "cell_type": "code",
   "execution_count": 16,
   "metadata": {},
   "outputs": [],
   "source": [
    "#Assuming the events are equiprobable. Therefore the probablity for rain =  0.2 , sunny = 0.2, cloudy = 0.2, snowy = 0.2 , foggy = 0.2\n",
    "\n",
    "rain = 0.2 #rainy\n",
    "sunn = 0.2 #sunny\n",
    "clou = 0.2 #cloudy\n",
    "snow = 0.2 #snowy\n",
    "fogg = 0.2 #foggy\n",
    "\n",
    "weather = ProbDist(rain =0.2, sunn = 0.2 , clou = 0.2 , snow = 0.2 , fogg = 0.2)\n"
   ]
  },
  {
   "cell_type": "code",
   "execution_count": 17,
   "metadata": {},
   "outputs": [
    {
     "data": {
      "text/plain": [
       "10000"
      ]
     },
     "execution_count": 17,
     "metadata": {},
     "output_type": "execute_result"
    }
   ],
   "source": [
    "#We create the joint probability of SGP and weather condition and Russia and Weather condition.\n",
    "def joint(A, B, sep=''):\n",
    "    return ProbDist({a + sep + b: A[a] * B[b]\n",
    "                    for a in A\n",
    "                    for b in B})\n",
    "\n",
    "weather_sgp = joint(SGP, weather ,'')\n",
    "weather_rgp= joint(RGP, weather ,'')\n",
    "\n",
    "#Joining the above 2 probability\n",
    "weather_sgp_rgp = joint(weather_sgp, weather_rgp ,'')\n",
    "\n",
    "len(weather_sgp_rgp)"
   ]
  },
  {
   "cell_type": "code",
   "execution_count": 18,
   "metadata": {},
   "outputs": [
    {
     "data": {
      "text/plain": [
       "0.2893805802888808"
      ]
     },
     "execution_count": 18,
     "metadata": {},
     "output_type": "execute_result"
    }
   ],
   "source": [
    "# First we create a space which has the probablity of mercedes winning in rains\n",
    "\n",
    "def merc_wins_one_of_two_rainy(outcome): return  outcome.startswith(\"LHrain\") or outcome.startswith(\"VBrain\") or outcome.endswith(\"LHrain\") or outcome.endswith(\"VBrain\") \n",
    "a = such_that(merc_wins_one_of_two_rainy,weather_sgp_rgp) \n",
    "\n",
    "a11 = a[\"LHrainLHrain\"] + a[\"VBrainLHrain\"]  + a[\"LHrainVBrain\"] + a[\"VBrainVBrain\"]\n",
    "\n",
    "#from the space we select only those outcomes in which mercedes wins in any climate condition\n",
    "def merc_wins_both_race(outcome): return (outcome.startswith(\"LH\") or outcome.startswith(\"VB\")) and (outcome[6] + outcome[7] == \"VB\" or outcome[6] + outcome[7] == \"LH\") \n",
    "ans = p(merc_wins_both_race, such_that(merc_wins_one_of_two_rainy,weather_sgp_rgp))\n",
    "#subtract the doublly occured probability\n",
    "ans1 = ans - a11\n",
    "ans1"
   ]
  },
  {
   "cell_type": "code",
   "execution_count": null,
   "metadata": {},
   "outputs": [],
   "source": []
  },
  {
   "cell_type": "code",
   "execution_count": null,
   "metadata": {},
   "outputs": [],
   "source": []
  }
 ],
 "metadata": {
  "kernelspec": {
   "display_name": "Python 3",
   "language": "python",
   "name": "python3"
  },
  "language_info": {
   "codemirror_mode": {
    "name": "ipython",
    "version": 3
   },
   "file_extension": ".py",
   "mimetype": "text/x-python",
   "name": "python",
   "nbconvert_exporter": "python",
   "pygments_lexer": "ipython3",
   "version": "3.7.4"
  }
 },
 "nbformat": 4,
 "nbformat_minor": 1
}
